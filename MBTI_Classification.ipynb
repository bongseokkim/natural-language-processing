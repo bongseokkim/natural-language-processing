{
  "nbformat": 4,
  "nbformat_minor": 0,
  "metadata": {
    "colab": {
      "name": "MBTI_Classification.ipynb",
      "provenance": [],
      "collapsed_sections": []
    },
    "kernelspec": {
      "display_name": "Python 3",
      "name": "python3"
    },
    "language_info": {
      "name": "python"
    },
    "widgets": {
      "application/vnd.jupyter.widget-state+json": {
        "9dd92f64cd554dc9926c0acb8d3c8d71": {
          "model_module": "@jupyter-widgets/controls",
          "model_name": "HBoxModel",
          "state": {
            "_dom_classes": [],
            "_model_module": "@jupyter-widgets/controls",
            "_model_module_version": "1.5.0",
            "_model_name": "HBoxModel",
            "_view_count": null,
            "_view_module": "@jupyter-widgets/controls",
            "_view_module_version": "1.5.0",
            "_view_name": "HBoxView",
            "box_style": "",
            "children": [
              "IPY_MODEL_e1b50d5415b24a138d0728e06d27538e",
              "IPY_MODEL_216a0d15f8e04d7685e22b0d79da0808"
            ],
            "layout": "IPY_MODEL_e0a31345fdd8451ea0bfd6572e879ebb"
          }
        },
        "e1b50d5415b24a138d0728e06d27538e": {
          "model_module": "@jupyter-widgets/controls",
          "model_name": "FloatProgressModel",
          "state": {
            "_dom_classes": [],
            "_model_module": "@jupyter-widgets/controls",
            "_model_module_version": "1.5.0",
            "_model_name": "FloatProgressModel",
            "_view_count": null,
            "_view_module": "@jupyter-widgets/controls",
            "_view_module_version": "1.5.0",
            "_view_name": "ProgressView",
            "bar_style": "",
            "description": " 15%",
            "description_tooltip": null,
            "layout": "IPY_MODEL_f74248041a9443718acf2d354d1e2225",
            "max": 334,
            "min": 0,
            "orientation": "horizontal",
            "style": "IPY_MODEL_20eb5f9730cc4dd7b4e3951471dc3ea3",
            "value": 49
          }
        },
        "216a0d15f8e04d7685e22b0d79da0808": {
          "model_module": "@jupyter-widgets/controls",
          "model_name": "HTMLModel",
          "state": {
            "_dom_classes": [],
            "_model_module": "@jupyter-widgets/controls",
            "_model_module_version": "1.5.0",
            "_model_name": "HTMLModel",
            "_view_count": null,
            "_view_module": "@jupyter-widgets/controls",
            "_view_module_version": "1.5.0",
            "_view_name": "HTMLView",
            "description": "",
            "description_tooltip": null,
            "layout": "IPY_MODEL_8847c74b1ee0481db7333bece0881780",
            "placeholder": "​",
            "style": "IPY_MODEL_d735967a8f0e4648a0b431c1cc7f0521",
            "value": " 49/334 [30:44&lt;3:00:06, 37.92s/it]"
          }
        },
        "e0a31345fdd8451ea0bfd6572e879ebb": {
          "model_module": "@jupyter-widgets/base",
          "model_name": "LayoutModel",
          "state": {
            "_model_module": "@jupyter-widgets/base",
            "_model_module_version": "1.2.0",
            "_model_name": "LayoutModel",
            "_view_count": null,
            "_view_module": "@jupyter-widgets/base",
            "_view_module_version": "1.2.0",
            "_view_name": "LayoutView",
            "align_content": null,
            "align_items": null,
            "align_self": null,
            "border": null,
            "bottom": null,
            "display": null,
            "flex": null,
            "flex_flow": null,
            "grid_area": null,
            "grid_auto_columns": null,
            "grid_auto_flow": null,
            "grid_auto_rows": null,
            "grid_column": null,
            "grid_gap": null,
            "grid_row": null,
            "grid_template_areas": null,
            "grid_template_columns": null,
            "grid_template_rows": null,
            "height": null,
            "justify_content": null,
            "justify_items": null,
            "left": null,
            "margin": null,
            "max_height": null,
            "max_width": null,
            "min_height": null,
            "min_width": null,
            "object_fit": null,
            "object_position": null,
            "order": null,
            "overflow": null,
            "overflow_x": null,
            "overflow_y": null,
            "padding": null,
            "right": null,
            "top": null,
            "visibility": null,
            "width": null
          }
        },
        "f74248041a9443718acf2d354d1e2225": {
          "model_module": "@jupyter-widgets/base",
          "model_name": "LayoutModel",
          "state": {
            "_model_module": "@jupyter-widgets/base",
            "_model_module_version": "1.2.0",
            "_model_name": "LayoutModel",
            "_view_count": null,
            "_view_module": "@jupyter-widgets/base",
            "_view_module_version": "1.2.0",
            "_view_name": "LayoutView",
            "align_content": null,
            "align_items": null,
            "align_self": null,
            "border": null,
            "bottom": null,
            "display": null,
            "flex": null,
            "flex_flow": null,
            "grid_area": null,
            "grid_auto_columns": null,
            "grid_auto_flow": null,
            "grid_auto_rows": null,
            "grid_column": null,
            "grid_gap": null,
            "grid_row": null,
            "grid_template_areas": null,
            "grid_template_columns": null,
            "grid_template_rows": null,
            "height": null,
            "justify_content": null,
            "justify_items": null,
            "left": null,
            "margin": null,
            "max_height": null,
            "max_width": null,
            "min_height": null,
            "min_width": null,
            "object_fit": null,
            "object_position": null,
            "order": null,
            "overflow": null,
            "overflow_x": null,
            "overflow_y": null,
            "padding": null,
            "right": null,
            "top": null,
            "visibility": null,
            "width": null
          }
        },
        "20eb5f9730cc4dd7b4e3951471dc3ea3": {
          "model_module": "@jupyter-widgets/controls",
          "model_name": "ProgressStyleModel",
          "state": {
            "_model_module": "@jupyter-widgets/controls",
            "_model_module_version": "1.5.0",
            "_model_name": "ProgressStyleModel",
            "_view_count": null,
            "_view_module": "@jupyter-widgets/base",
            "_view_module_version": "1.2.0",
            "_view_name": "StyleView",
            "bar_color": null,
            "description_width": "initial"
          }
        },
        "8847c74b1ee0481db7333bece0881780": {
          "model_module": "@jupyter-widgets/base",
          "model_name": "LayoutModel",
          "state": {
            "_model_module": "@jupyter-widgets/base",
            "_model_module_version": "1.2.0",
            "_model_name": "LayoutModel",
            "_view_count": null,
            "_view_module": "@jupyter-widgets/base",
            "_view_module_version": "1.2.0",
            "_view_name": "LayoutView",
            "align_content": null,
            "align_items": null,
            "align_self": null,
            "border": null,
            "bottom": null,
            "display": null,
            "flex": null,
            "flex_flow": null,
            "grid_area": null,
            "grid_auto_columns": null,
            "grid_auto_flow": null,
            "grid_auto_rows": null,
            "grid_column": null,
            "grid_gap": null,
            "grid_row": null,
            "grid_template_areas": null,
            "grid_template_columns": null,
            "grid_template_rows": null,
            "height": null,
            "justify_content": null,
            "justify_items": null,
            "left": null,
            "margin": null,
            "max_height": null,
            "max_width": null,
            "min_height": null,
            "min_width": null,
            "object_fit": null,
            "object_position": null,
            "order": null,
            "overflow": null,
            "overflow_x": null,
            "overflow_y": null,
            "padding": null,
            "right": null,
            "top": null,
            "visibility": null,
            "width": null
          }
        },
        "d735967a8f0e4648a0b431c1cc7f0521": {
          "model_module": "@jupyter-widgets/controls",
          "model_name": "DescriptionStyleModel",
          "state": {
            "_model_module": "@jupyter-widgets/controls",
            "_model_module_version": "1.5.0",
            "_model_name": "DescriptionStyleModel",
            "_view_count": null,
            "_view_module": "@jupyter-widgets/base",
            "_view_module_version": "1.2.0",
            "_view_name": "StyleView",
            "description_width": ""
          }
        }
      }
    }
  },
  "cells": [
    {
      "cell_type": "code",
      "metadata": {
        "colab": {
          "base_uri": "https://localhost:8080/"
        },
        "id": "R1H54KipcLi3",
        "outputId": "8c04c9ca-544b-4939-8c51-3c5d6d33620c"
      },
      "source": [
        "# mount Google Drive\n",
        "from google.colab import drive\n",
        "drive.mount('/content/gdrive')"
      ],
      "execution_count": 1,
      "outputs": [
        {
          "output_type": "stream",
          "text": [
            "Mounted at /content/gdrive\n"
          ],
          "name": "stdout"
        }
      ]
    },
    {
      "cell_type": "markdown",
      "metadata": {
        "id": "uP3NZCDOg3zl"
      },
      "source": [
        "## Load Data"
      ]
    },
    {
      "cell_type": "code",
      "metadata": {
        "id": "qG8A6kSSdKeX"
      },
      "source": [
        "import pandas as pd \n",
        "import numpy as np\n",
        "from tqdm import tqdm"
      ],
      "execution_count": 2,
      "outputs": []
    },
    {
      "cell_type": "code",
      "metadata": {
        "colab": {
          "base_uri": "https://localhost:8080/"
        },
        "id": "jpVoHUmUc-bI",
        "outputId": "a827c038-1354-41f1-b5ad-f2976151d773"
      },
      "source": [
        "% cd '/content/gdrive/MyDrive/MBTI'"
      ],
      "execution_count": 3,
      "outputs": [
        {
          "output_type": "stream",
          "text": [
            "/content/gdrive/MyDrive/MBTI\n"
          ],
          "name": "stdout"
        }
      ]
    },
    {
      "cell_type": "code",
      "metadata": {
        "colab": {
          "base_uri": "https://localhost:8080/"
        },
        "id": "DTJdPLwkeGqO",
        "outputId": "02937861-fbae-4225-9789-48398c854f74"
      },
      "source": [
        "import os\n",
        "from glob import glob \n",
        "\n",
        "data_name_list = glob(\"*.csv\")\n",
        "data_name_list \n",
        "data_dict = {}\n",
        "\n",
        "for name in data_name_list :\n",
        "  path = os.path.join(name)\n",
        "  data = pd.read_csv(path,encoding='cp949', index_col=0)\n",
        "  data_dict[str(name[0:4])] = data \n",
        "\n",
        "print(f'Succesfully loaded {len(data_dict)} data')"
      ],
      "execution_count": 4,
      "outputs": [
        {
          "output_type": "stream",
          "text": [
            "Succesfully loaded 16 data\n"
          ],
          "name": "stdout"
        }
      ]
    },
    {
      "cell_type": "code",
      "metadata": {
        "colab": {
          "base_uri": "https://localhost:8080/",
          "height": 204
        },
        "id": "zDjmLsNIefgs",
        "outputId": "655a7e05-9c06-48d4-ddf0-966413b599e2"
      },
      "source": [
        "data_dict['ESTJ'].head()"
      ],
      "execution_count": 5,
      "outputs": [
        {
          "output_type": "execute_result",
          "data": {
            "text/html": [
              "<div>\n",
              "<style scoped>\n",
              "    .dataframe tbody tr th:only-of-type {\n",
              "        vertical-align: middle;\n",
              "    }\n",
              "\n",
              "    .dataframe tbody tr th {\n",
              "        vertical-align: top;\n",
              "    }\n",
              "\n",
              "    .dataframe thead th {\n",
              "        text-align: right;\n",
              "    }\n",
              "</style>\n",
              "<table border=\"1\" class=\"dataframe\">\n",
              "  <thead>\n",
              "    <tr style=\"text-align: right;\">\n",
              "      <th></th>\n",
              "      <th>num</th>\n",
              "      <th>title</th>\n",
              "      <th>content</th>\n",
              "    </tr>\n",
              "  </thead>\n",
              "  <tbody>\n",
              "    <tr>\n",
              "      <th>1</th>\n",
              "      <td>4</td>\n",
              "      <td>ESTJ갤러리</td>\n",
              "      <td>-</td>\n",
              "    </tr>\n",
              "    <tr>\n",
              "      <th>2</th>\n",
              "      <td>7</td>\n",
              "      <td>아따잉 첫빠여라~~ ㅋㅋ</td>\n",
              "      <td>반갑소잉~~&lt;U+00A0&gt;</td>\n",
              "    </tr>\n",
              "    <tr>\n",
              "      <th>3</th>\n",
              "      <td>9</td>\n",
              "      <td>여긴 왜 사람이 없냐</td>\n",
              "      <td>존나 조용하네</td>\n",
              "    </tr>\n",
              "    <tr>\n",
              "      <th>4</th>\n",
              "      <td>10</td>\n",
              "      <td>estj는 인싸들이어서 글쓸시간도없음</td>\n",
              "      <td>근데 나도 estj임</td>\n",
              "    </tr>\n",
              "    <tr>\n",
              "      <th>5</th>\n",
              "      <td>11</td>\n",
              "      <td>MBTI 갤러리에서 떡 돌리러 왔습니다.</td>\n",
              "      <td>반갑습니다.</td>\n",
              "    </tr>\n",
              "  </tbody>\n",
              "</table>\n",
              "</div>"
            ],
            "text/plain": [
              "   num                   title                          content\n",
              "1    4                 ESTJ갤러리                               - \n",
              "2    7           아따잉 첫빠여라~~ ㅋㅋ           반갑소잉~~<U+00A0>        \n",
              "3    9             여긴 왜 사람이 없냐                         존나 조용하네 \n",
              "4   10    estj는 인싸들이어서 글쓸시간도없음                     근데 나도 estj임 \n",
              "5   11  MBTI 갤러리에서 떡 돌리러 왔습니다.                          반갑습니다. "
            ]
          },
          "metadata": {
            "tags": []
          },
          "execution_count": 5
        }
      ]
    },
    {
      "cell_type": "code",
      "metadata": {
        "colab": {
          "base_uri": "https://localhost:8080/"
        },
        "id": "Q-IrLaAbW8Vf",
        "outputId": "9d998b34-c2a4-487c-91e3-8d726ea403a4"
      },
      "source": [
        "data_dict.keys()"
      ],
      "execution_count": 6,
      "outputs": [
        {
          "output_type": "execute_result",
          "data": {
            "text/plain": [
              "dict_keys(['ENFJ', 'ENFP', 'ENTJ', 'ENTP', 'ESFP', 'ESFJ', 'ESTJ', 'ESTP', 'INFJ', 'INFP', 'INTJ', 'ISFJ', 'ISFP', 'ISTJ', 'ISTP', 'INTP'])"
            ]
          },
          "metadata": {
            "tags": []
          },
          "execution_count": 6
        }
      ]
    },
    {
      "cell_type": "code",
      "metadata": {
        "id": "QXf8VnpNW8yX"
      },
      "source": [
        "# labeling \n",
        "for label in data_dict.keys():\n",
        "  data_dict[label]['label'] = label "
      ],
      "execution_count": 7,
      "outputs": []
    },
    {
      "cell_type": "code",
      "metadata": {
        "colab": {
          "base_uri": "https://localhost:8080/",
          "height": 204
        },
        "id": "JlNuMSPiXV-w",
        "outputId": "f8c98b1e-6ed4-4f74-dd50-4319dd748226"
      },
      "source": [
        "#checking \n",
        "data_dict['ESTJ'].head()"
      ],
      "execution_count": 8,
      "outputs": [
        {
          "output_type": "execute_result",
          "data": {
            "text/html": [
              "<div>\n",
              "<style scoped>\n",
              "    .dataframe tbody tr th:only-of-type {\n",
              "        vertical-align: middle;\n",
              "    }\n",
              "\n",
              "    .dataframe tbody tr th {\n",
              "        vertical-align: top;\n",
              "    }\n",
              "\n",
              "    .dataframe thead th {\n",
              "        text-align: right;\n",
              "    }\n",
              "</style>\n",
              "<table border=\"1\" class=\"dataframe\">\n",
              "  <thead>\n",
              "    <tr style=\"text-align: right;\">\n",
              "      <th></th>\n",
              "      <th>num</th>\n",
              "      <th>title</th>\n",
              "      <th>content</th>\n",
              "      <th>label</th>\n",
              "    </tr>\n",
              "  </thead>\n",
              "  <tbody>\n",
              "    <tr>\n",
              "      <th>1</th>\n",
              "      <td>4</td>\n",
              "      <td>ESTJ갤러리</td>\n",
              "      <td>-</td>\n",
              "      <td>ESTJ</td>\n",
              "    </tr>\n",
              "    <tr>\n",
              "      <th>2</th>\n",
              "      <td>7</td>\n",
              "      <td>아따잉 첫빠여라~~ ㅋㅋ</td>\n",
              "      <td>반갑소잉~~&lt;U+00A0&gt;</td>\n",
              "      <td>ESTJ</td>\n",
              "    </tr>\n",
              "    <tr>\n",
              "      <th>3</th>\n",
              "      <td>9</td>\n",
              "      <td>여긴 왜 사람이 없냐</td>\n",
              "      <td>존나 조용하네</td>\n",
              "      <td>ESTJ</td>\n",
              "    </tr>\n",
              "    <tr>\n",
              "      <th>4</th>\n",
              "      <td>10</td>\n",
              "      <td>estj는 인싸들이어서 글쓸시간도없음</td>\n",
              "      <td>근데 나도 estj임</td>\n",
              "      <td>ESTJ</td>\n",
              "    </tr>\n",
              "    <tr>\n",
              "      <th>5</th>\n",
              "      <td>11</td>\n",
              "      <td>MBTI 갤러리에서 떡 돌리러 왔습니다.</td>\n",
              "      <td>반갑습니다.</td>\n",
              "      <td>ESTJ</td>\n",
              "    </tr>\n",
              "  </tbody>\n",
              "</table>\n",
              "</div>"
            ],
            "text/plain": [
              "   num                   title                          content label\n",
              "1    4                 ESTJ갤러리                               -   ESTJ\n",
              "2    7           아따잉 첫빠여라~~ ㅋㅋ           반갑소잉~~<U+00A0>          ESTJ\n",
              "3    9             여긴 왜 사람이 없냐                         존나 조용하네   ESTJ\n",
              "4   10    estj는 인싸들이어서 글쓸시간도없음                     근데 나도 estj임   ESTJ\n",
              "5   11  MBTI 갤러리에서 떡 돌리러 왔습니다.                          반갑습니다.   ESTJ"
            ]
          },
          "metadata": {
            "tags": []
          },
          "execution_count": 8
        }
      ]
    },
    {
      "cell_type": "code",
      "metadata": {
        "id": "b4ATi56bXaZQ"
      },
      "source": [
        "# contcat intto one data_set \n",
        "result = pd.DataFrame()\n",
        "for label in data_dict.keys():\n",
        "  result = pd.concat([result, data_dict[label]])\n",
        "\n",
        "result = result.drop('num', axis=1)\n",
        "result = result.reset_index().drop(['index'],axis=1)"
      ],
      "execution_count": 9,
      "outputs": []
    },
    {
      "cell_type": "code",
      "metadata": {
        "colab": {
          "base_uri": "https://localhost:8080/",
          "height": 419
        },
        "id": "nzixYqDcaSji",
        "outputId": "dc97bda2-1c4d-473c-cef4-5598d7b5b93d"
      },
      "source": [
        "result"
      ],
      "execution_count": 10,
      "outputs": [
        {
          "output_type": "execute_result",
          "data": {
            "text/html": [
              "<div>\n",
              "<style scoped>\n",
              "    .dataframe tbody tr th:only-of-type {\n",
              "        vertical-align: middle;\n",
              "    }\n",
              "\n",
              "    .dataframe tbody tr th {\n",
              "        vertical-align: top;\n",
              "    }\n",
              "\n",
              "    .dataframe thead th {\n",
              "        text-align: right;\n",
              "    }\n",
              "</style>\n",
              "<table border=\"1\" class=\"dataframe\">\n",
              "  <thead>\n",
              "    <tr style=\"text-align: right;\">\n",
              "      <th></th>\n",
              "      <th>title</th>\n",
              "      <th>content</th>\n",
              "      <th>label</th>\n",
              "    </tr>\n",
              "  </thead>\n",
              "  <tbody>\n",
              "    <tr>\n",
              "      <th>0</th>\n",
              "      <td>사랑해요 엔프제</td>\n",
              "      <td>천사가 있다면 당신일 것&lt;U+00A0&gt;</td>\n",
              "      <td>ENFJ</td>\n",
              "    </tr>\n",
              "    <tr>\n",
              "      <th>1</th>\n",
              "      <td>ㅎㅇ</td>\n",
              "      <td>너희들 다 내 거임</td>\n",
              "      <td>ENFJ</td>\n",
              "    </tr>\n",
              "    <tr>\n",
              "      <th>2</th>\n",
              "      <td>엔프제 갤러리 특)</td>\n",
              "      <td>엔프제는 없고엔프제를 보려는 관객만 있다</td>\n",
              "      <td>ENFJ</td>\n",
              "    </tr>\n",
              "    <tr>\n",
              "      <th>3</th>\n",
              "      <td>갤주는 갤이름 대문자로 바꿔라. ㅈㄴ 불편하네</td>\n",
              "      <td>NaN</td>\n",
              "      <td>ENFJ</td>\n",
              "    </tr>\n",
              "    <tr>\n",
              "      <th>4</th>\n",
              "      <td>ㅎㅇㅎㅇ</td>\n",
              "      <td>엔갤 흥하길 바람</td>\n",
              "      <td>ENFJ</td>\n",
              "    </tr>\n",
              "    <tr>\n",
              "      <th>...</th>\n",
              "      <td>...</td>\n",
              "      <td>...</td>\n",
              "      <td>...</td>\n",
              "    </tr>\n",
              "    <tr>\n",
              "      <th>28237</th>\n",
              "      <td>응애 나 아기인팁</td>\n",
              "      <td>응애</td>\n",
              "      <td>INTP</td>\n",
              "    </tr>\n",
              "    <tr>\n",
              "      <th>28238</th>\n",
              "      <td>인팁은 악필이냐?</td>\n",
              "      <td>일단 난 악필임</td>\n",
              "      <td>INTP</td>\n",
              "    </tr>\n",
              "    <tr>\n",
              "      <th>28239</th>\n",
              "      <td>이제 깨달았다</td>\n",
              "      <td>최근에 mbti 검사해보고 계속 infp 나와서 가끔씩 infp 관련된 거 찾아봤는...</td>\n",
              "      <td>INTP</td>\n",
              "    </tr>\n",
              "    <tr>\n",
              "      <th>28240</th>\n",
              "      <td>와시발 턱걸이</td>\n",
              "      <td>- dc official App</td>\n",
              "      <td>INTP</td>\n",
              "    </tr>\n",
              "    <tr>\n",
              "      <th>28241</th>\n",
              "      <td>저거 아이큐에서 10정도 빼야 실제 아이큐랑 근사할듯.</td>\n",
              "      <td>패턴 우려먹기 많이 보이네</td>\n",
              "      <td>INTP</td>\n",
              "    </tr>\n",
              "  </tbody>\n",
              "</table>\n",
              "<p>28242 rows × 3 columns</p>\n",
              "</div>"
            ],
            "text/plain": [
              "                                title  ... label\n",
              "0                            사랑해요 엔프제  ...  ENFJ\n",
              "1                                  ㅎㅇ  ...  ENFJ\n",
              "2                          엔프제 갤러리 특)  ...  ENFJ\n",
              "3           갤주는 갤이름 대문자로 바꿔라. ㅈㄴ 불편하네  ...  ENFJ\n",
              "4                                ㅎㅇㅎㅇ  ...  ENFJ\n",
              "...                               ...  ...   ...\n",
              "28237                       응애 나 아기인팁  ...  INTP\n",
              "28238                       인팁은 악필이냐?  ...  INTP\n",
              "28239                         이제 깨달았다  ...  INTP\n",
              "28240                         와시발 턱걸이  ...  INTP\n",
              "28241  저거 아이큐에서 10정도 빼야 실제 아이큐랑 근사할듯.  ...  INTP\n",
              "\n",
              "[28242 rows x 3 columns]"
            ]
          },
          "metadata": {
            "tags": []
          },
          "execution_count": 10
        }
      ]
    },
    {
      "cell_type": "code",
      "metadata": {
        "colab": {
          "base_uri": "https://localhost:8080/"
        },
        "id": "V8DfB0xAYVCy",
        "outputId": "c544abf6-d405-414f-e2c7-fae511677d82"
      },
      "source": [
        "print(f'result shape : {result.shape}')"
      ],
      "execution_count": 11,
      "outputs": [
        {
          "output_type": "stream",
          "text": [
            "result shape : (28242, 3)\n"
          ],
          "name": "stdout"
        }
      ]
    },
    {
      "cell_type": "markdown",
      "metadata": {
        "id": "YjQUmvw1g0oS"
      },
      "source": [
        "## Preprocessing\n",
        "\n",
        "Basic\n",
        "기초적인 전처리,\n",
        "html tag 제거(크롤링한 데이터일경우)\n",
        "숫자, 영어, 특수문자 등 필요하지 않은 언어 제거\n",
        "Lowercasing\n",
        "\"@%*=()/+ 와 같은 punctuation(문장부호) 제거\n",
        "\n",
        "\n",
        "출처: https://ebbnflow.tistory.com/246 [Dev Log : 삶은 확률의 구름]\n"
      ]
    },
    {
      "cell_type": "code",
      "metadata": {
        "id": "e_EP8H9lY4ju"
      },
      "source": [
        "punct = \"/-'?!.,#$%\\'()*+-/:;<=>@[\\\\]^_`{|}~\" + '\"\"“”’' + '∞θ÷α•à−β∅³π‘₹´°£€\\×™√²—–&'\n",
        "\n",
        "punct_mapping = {\"‘\": \"'\", \"₹\": \"e\", \"´\": \"'\", \"°\": \"\", \"€\": \"e\", \"™\": \"tm\", \"√\": \" sqrt \", \"×\": \"x\", \"²\": \"2\", \"—\": \"-\", \"–\": \"-\", \"’\": \"'\", \"_\": \"-\", \"`\": \"'\", '“': '\"', '”': '\"', '“': '\"', \"£\": \"e\", '∞': 'infinity', 'θ': 'theta', '÷': '/', 'α': 'alpha', '•': '.', 'à': 'a', '−': '-', 'β': 'beta', '∅': '', '³': '3', 'π': 'pi', }\n"
      ],
      "execution_count": null,
      "outputs": []
    },
    {
      "cell_type": "code",
      "metadata": {
        "id": "2qxvUmjRZEjp"
      },
      "source": [
        "def clean_punc(text, punct, mapping): \n",
        "  for p in mapping: \n",
        "    text = text.replace(p, mapping[p]) \n",
        "\n",
        "  for p in punct:\n",
        "     text = text.replace(p, '') \n",
        "\n",
        "  specials = {'\\u200b': ' ', '…': ' ... ', '\\ufeff': '', 'करना': '', 'है': ''} \n",
        "  for s in specials: \n",
        "    text = text.replace(s, specials[s]) \n",
        "\n",
        "  return text.strip()\n"
      ],
      "execution_count": null,
      "outputs": []
    },
    {
      "cell_type": "code",
      "metadata": {
        "colab": {
          "base_uri": "https://localhost:8080/",
          "height": 35
        },
        "id": "ElFKtm-IZE9g",
        "outputId": "aa8c2139-ec6c-4acf-fbea-7c4e574bb897"
      },
      "source": [
        "# try clean punc \n",
        "sample_text = result.iloc[0,1] \n",
        "sample_text"
      ],
      "execution_count": null,
      "outputs": [
        {
          "output_type": "execute_result",
          "data": {
            "application/vnd.google.colaboratory.intrinsic+json": {
              "type": "string"
            },
            "text/plain": [
              "'         천사가 있다면 당신일 것<U+00A0>        '"
            ]
          },
          "metadata": {
            "tags": []
          },
          "execution_count": 14
        }
      ]
    },
    {
      "cell_type": "code",
      "metadata": {
        "colab": {
          "base_uri": "https://localhost:8080/",
          "height": 35
        },
        "id": "PvIBFcFCbfCZ",
        "outputId": "cf66b594-cf9a-481b-947a-112de389531c"
      },
      "source": [
        "clean_punc(sample_text ,punct, punct_mapping)"
      ],
      "execution_count": null,
      "outputs": [
        {
          "output_type": "execute_result",
          "data": {
            "application/vnd.google.colaboratory.intrinsic+json": {
              "type": "string"
            },
            "text/plain": [
              "'천사가 있다면 당신일 것U00A0'"
            ]
          },
          "metadata": {
            "tags": []
          },
          "execution_count": 15
        }
      ]
    },
    {
      "cell_type": "code",
      "metadata": {
        "id": "bxoJysq6cf9z"
      },
      "source": [
        "import re \n",
        "\n",
        "def clean_text(texts): \n",
        "  corpus = [] \n",
        "  for i in range(0, len(texts)): \n",
        "    review = re.sub(r'[@%\\\\*=()/~#&\\+á?\\xc3\\xa1\\-\\|\\.\\:\\;\\!\\-\\,\\_\\~\\$\\'\\\"]', '',str(texts[i])) #remove punctuation \n",
        "    review = re.sub(r'\\d+','', str(texts[i]))# remove number\n",
        "    review = review.lower() #lower case \n",
        "    review = re.sub(r'\\s+', ' ', review) #remove extra space \n",
        "    review = re.sub(r'<[^>]+>','',review) #remove Html tags \n",
        "    review = re.sub(r'\\s+', ' ', review) #remove spaces \n",
        "    review = re.sub(r\"^\\s+\", '', review) #remove space from start \n",
        "    review = re.sub(r'\\s+$', '', review) #remove space from the end \n",
        "    corpus.append(review) \n",
        "\n",
        "\n",
        "  \n",
        "  return corpus\n",
        "\n"
      ],
      "execution_count": null,
      "outputs": []
    },
    {
      "cell_type": "code",
      "metadata": {
        "colab": {
          "base_uri": "https://localhost:8080/"
        },
        "id": "ooXn1IPSb8ti",
        "outputId": "62b9fb1b-e8bf-4f07-8427-490e053c0304"
      },
      "source": [
        "clean_text(sample_text)"
      ],
      "execution_count": null,
      "outputs": [
        {
          "output_type": "execute_result",
          "data": {
            "text/plain": [
              "['',\n",
              " '',\n",
              " '',\n",
              " '',\n",
              " '',\n",
              " '',\n",
              " '',\n",
              " '',\n",
              " '',\n",
              " '천',\n",
              " '사',\n",
              " '가',\n",
              " '',\n",
              " '있',\n",
              " '다',\n",
              " '면',\n",
              " '',\n",
              " '당',\n",
              " '신',\n",
              " '일',\n",
              " '',\n",
              " '것',\n",
              " '<',\n",
              " 'u',\n",
              " '+',\n",
              " '',\n",
              " '',\n",
              " 'a',\n",
              " '',\n",
              " '>',\n",
              " '',\n",
              " '',\n",
              " '',\n",
              " '',\n",
              " '',\n",
              " '',\n",
              " '',\n",
              " '']"
            ]
          },
          "metadata": {
            "tags": []
          },
          "execution_count": 17
        }
      ]
    },
    {
      "cell_type": "markdown",
      "metadata": {
        "id": "ZyGCItMzYvvI"
      },
      "source": [
        "### SOYNLP를 이용한 단어 토큰화"
      ]
    },
    {
      "cell_type": "code",
      "metadata": {
        "colab": {
          "base_uri": "https://localhost:8080/"
        },
        "id": "SlWMp0Lskhwj",
        "outputId": "c9de9772-7448-4b3d-bd41-7ae0376408b8"
      },
      "source": [
        "!pip install soynlp"
      ],
      "execution_count": 13,
      "outputs": [
        {
          "output_type": "stream",
          "text": [
            "Collecting soynlp\n",
            "\u001b[?25l  Downloading https://files.pythonhosted.org/packages/7e/50/6913dc52a86a6b189419e59f9eef1b8d599cffb6f44f7bb91854165fc603/soynlp-0.0.493-py3-none-any.whl (416kB)\n",
            "\u001b[K     |████████████████████████████████| 419kB 3.9MB/s \n",
            "\u001b[?25hRequirement already satisfied: scikit-learn>=0.20.0 in /usr/local/lib/python3.7/dist-packages (from soynlp) (0.22.2.post1)\n",
            "Requirement already satisfied: scipy>=1.1.0 in /usr/local/lib/python3.7/dist-packages (from soynlp) (1.4.1)\n",
            "Requirement already satisfied: numpy>=1.12.1 in /usr/local/lib/python3.7/dist-packages (from soynlp) (1.19.5)\n",
            "Requirement already satisfied: psutil>=5.0.1 in /usr/local/lib/python3.7/dist-packages (from soynlp) (5.4.8)\n",
            "Requirement already satisfied: joblib>=0.11 in /usr/local/lib/python3.7/dist-packages (from scikit-learn>=0.20.0->soynlp) (1.0.1)\n",
            "Installing collected packages: soynlp\n",
            "Successfully installed soynlp-0.0.493\n"
          ],
          "name": "stdout"
        }
      ]
    },
    {
      "cell_type": "code",
      "metadata": {
        "id": "xzL1j5NYWc6P"
      },
      "source": [
        "from soynlp.tokenizer import LTokenizer\n",
        "from soynlp.tokenizer import MaxScoreTokenizer\n",
        "from soynlp.normalizer import *"
      ],
      "execution_count": 14,
      "outputs": []
    },
    {
      "cell_type": "markdown",
      "metadata": {
        "id": "dWllozfA0FGd"
      },
      "source": [
        "## 레이블 인코딩"
      ]
    },
    {
      "cell_type": "code",
      "metadata": {
        "colab": {
          "base_uri": "https://localhost:8080/"
        },
        "id": "jK6xPyXaz1dS",
        "outputId": "644a1a2d-76fb-4846-fb07-06d9d8e3c762"
      },
      "source": [
        "# 레이블 인코딩\n",
        "\n",
        "from sklearn.preprocessing import LabelEncoder\n",
        "\n",
        "mydata = result.dropna()\n",
        "encoder = LabelEncoder()\n",
        "encoder.fit(mydata['label'])\n",
        "mydata['label'] = encoder.transform(mydata['label'])"
      ],
      "execution_count": 17,
      "outputs": [
        {
          "output_type": "stream",
          "text": [
            "/usr/local/lib/python3.7/dist-packages/ipykernel_launcher.py:8: SettingWithCopyWarning: \n",
            "A value is trying to be set on a copy of a slice from a DataFrame.\n",
            "Try using .loc[row_indexer,col_indexer] = value instead\n",
            "\n",
            "See the caveats in the documentation: https://pandas.pydata.org/pandas-docs/stable/user_guide/indexing.html#returning-a-view-versus-a-copy\n",
            "  \n"
          ],
          "name": "stderr"
        }
      ]
    },
    {
      "cell_type": "code",
      "metadata": {
        "colab": {
          "base_uri": "https://localhost:8080/"
        },
        "id": "0et54Nlzzo_L",
        "outputId": "7f62570b-4b95-450a-ee67-6066b09fb4bf"
      },
      "source": [
        "mydata['content'].values"
      ],
      "execution_count": 18,
      "outputs": [
        {
          "output_type": "execute_result",
          "data": {
            "text/plain": [
              "array(['         천사가 있다면 당신일 것<U+00A0>        ', '너희들 다 내 거임',\n",
              "       '엔프제는 없고엔프제를 보려는 관객만 있다', ...,\n",
              "       '최근에 mbti 검사해보고 계속 infp 나와서 가끔씩 infp 관련된 거 찾아봤는데 뭔가 조금씩 다른거 같고, infp인 애들 역겹게 느껴진다 싶었는데 돌이켜보니 나는 intp가 맞는 거 같다. 그냥 인간관계에서만 f인척하는데 그게 반영됐던 거 같아.',\n",
              "       ' - dc official App', '패턴 우려먹기 많이 보이네'], dtype=object)"
            ]
          },
          "metadata": {
            "tags": []
          },
          "execution_count": 18
        }
      ]
    },
    {
      "cell_type": "code",
      "metadata": {
        "colab": {
          "base_uri": "https://localhost:8080/"
        },
        "id": "lJoaV8uuz1IL",
        "outputId": "5351f253-51b9-46fc-e039-00aff797bc64"
      },
      "source": [
        "mydata['label'].values"
      ],
      "execution_count": 19,
      "outputs": [
        {
          "output_type": "execute_result",
          "data": {
            "text/plain": [
              "array([ 0,  0,  0, ..., 11, 11, 11])"
            ]
          },
          "metadata": {
            "tags": []
          },
          "execution_count": 19
        }
      ]
    },
    {
      "cell_type": "markdown",
      "metadata": {
        "id": "zef9Ts3E0aQe"
      },
      "source": [
        "## GPU 문제로 인한 , 케라스 활용\n",
        "\n",
        "### 1)기본적인 임베딩 레이어를 거친 MLP "
      ]
    },
    {
      "cell_type": "code",
      "metadata": {
        "id": "0G0gqLrizpab"
      },
      "source": [
        "from tensorflow.keras.preprocessing.text import Tokenizer\n",
        "from tensorflow.keras.preprocessing.sequence import pad_sequences\n",
        "import numpy as np"
      ],
      "execution_count": 20,
      "outputs": []
    },
    {
      "cell_type": "code",
      "metadata": {
        "id": "Ti69A9frzp3S"
      },
      "source": [
        "maxlen = 100\n",
        "training_samples = 10000\n",
        "validation_samples = 10000\n",
        "max_words = 10000\n",
        "\n",
        "tokenizer = Tokenizer(num_words=max_words)"
      ],
      "execution_count": 21,
      "outputs": []
    },
    {
      "cell_type": "code",
      "metadata": {
        "id": "OVC7n5jNzqLt"
      },
      "source": [
        "tokenizer.fit_on_texts(mydata['content'].values)"
      ],
      "execution_count": 22,
      "outputs": []
    },
    {
      "cell_type": "code",
      "metadata": {
        "id": "D1tk5GcJ0p_N"
      },
      "source": [
        "sequences = tokenizer.texts_to_sequences(mydata['content'].values)"
      ],
      "execution_count": 23,
      "outputs": []
    },
    {
      "cell_type": "code",
      "metadata": {
        "colab": {
          "base_uri": "https://localhost:8080/"
        },
        "id": "GtUJ3v0q0uXC",
        "outputId": "1e127d8f-c677-40c7-a348-da903684827b"
      },
      "source": [
        "word_index = tokenizer.word_index\n",
        "print('Found %s unique tokens.' % len(word_index))\n",
        "\n"
      ],
      "execution_count": 24,
      "outputs": [
        {
          "output_type": "stream",
          "text": [
            "Found 202321 unique tokens.\n"
          ],
          "name": "stdout"
        }
      ]
    },
    {
      "cell_type": "code",
      "metadata": {
        "id": "9RMhM5ka0x5q"
      },
      "source": [
        "data = pad_sequences(sequences, maxlen=maxlen)"
      ],
      "execution_count": 25,
      "outputs": []
    },
    {
      "cell_type": "code",
      "metadata": {
        "id": "o7eCXi9R0yK0"
      },
      "source": [
        "labels = np.asarray(mydata['label'].values)"
      ],
      "execution_count": 27,
      "outputs": []
    },
    {
      "cell_type": "code",
      "metadata": {
        "colab": {
          "base_uri": "https://localhost:8080/"
        },
        "id": "5siivAsp0yYK",
        "outputId": "8d71dded-d81b-47e1-afb5-e9438c06e349"
      },
      "source": [
        "labels"
      ],
      "execution_count": 28,
      "outputs": [
        {
          "output_type": "execute_result",
          "data": {
            "text/plain": [
              "array([ 0,  0,  0, ..., 11, 11, 11])"
            ]
          },
          "metadata": {
            "tags": []
          },
          "execution_count": 28
        }
      ]
    },
    {
      "cell_type": "code",
      "metadata": {
        "colab": {
          "base_uri": "https://localhost:8080/"
        },
        "id": "z_XVwnbJ08PF",
        "outputId": "dfa0a4d8-0fc8-40a3-a421-4bddd000003a"
      },
      "source": [
        "print('Shape of data tensor: ', data.shape)\n",
        "print('Shape of label tensor: ', labels.shape)"
      ],
      "execution_count": 29,
      "outputs": [
        {
          "output_type": "stream",
          "text": [
            "Shape of data tensor:  (26645, 100)\n",
            "Shape of label tensor:  (26645,)\n"
          ],
          "name": "stdout"
        }
      ]
    },
    {
      "cell_type": "code",
      "metadata": {
        "colab": {
          "base_uri": "https://localhost:8080/"
        },
        "id": "fzdFaa1a08y9",
        "outputId": "cc65dda0-1474-4295-9970-cd041b52a117"
      },
      "source": [
        "data"
      ],
      "execution_count": 30,
      "outputs": [
        {
          "output_type": "execute_result",
          "data": {
            "text/plain": [
              "array([[   0,    0,    0, ...,   18,    1,    2],\n",
              "       [   0,    0,    0, ...,    7,    5,  731],\n",
              "       [   0,    0,    0, ...,    0,  926,  143],\n",
              "       ...,\n",
              "       [   0,    0,    0, ...,   78,   22,  105],\n",
              "       [   0,    0,    0, ...,  688,  710,  655],\n",
              "       [   0,    0,    0, ..., 6232,   21, 7103]], dtype=int32)"
            ]
          },
          "metadata": {
            "tags": []
          },
          "execution_count": 30
        }
      ]
    },
    {
      "cell_type": "code",
      "metadata": {
        "id": "a18TuYUg2R3z"
      },
      "source": [
        "from tensorflow.keras.utils import to_categorical\n",
        "\n",
        "labels = to_categorical(labels)"
      ],
      "execution_count": 45,
      "outputs": []
    },
    {
      "cell_type": "code",
      "metadata": {
        "colab": {
          "base_uri": "https://localhost:8080/"
        },
        "id": "I8VMfYQK35rr",
        "outputId": "fd373f21-9d52-4378-eab2-95ce2ff927a5"
      },
      "source": [
        "data[0:34]"
      ],
      "execution_count": 59,
      "outputs": [
        {
          "output_type": "execute_result",
          "data": {
            "text/plain": [
              "array([[   0,    0,    0, ...,   84, 3776,    6],\n",
              "       [   0,    0,    0, ..., 6252,    8,  241],\n",
              "       [   0,    0,    0, ...,  920,  213,   42],\n",
              "       ...,\n",
              "       [   0,    0,    0, ...,    0,    0,   93],\n",
              "       [   0,    0,    0, ...,    0,    0,    0],\n",
              "       [   0,    0,    0, ...,   23, 1097,  889]], dtype=int32)"
            ]
          },
          "metadata": {
            "tags": []
          },
          "execution_count": 59
        }
      ]
    },
    {
      "cell_type": "code",
      "metadata": {
        "id": "_EfuCH2808_q"
      },
      "source": [
        "indices = np.arange(data.shape[0])\n",
        "np.random.shuffle(indices)\n",
        "data = data[indices]\n",
        "labels = labels[indices]\n",
        "\n",
        "x_train = data[:training_samples]\n",
        "y_train = labels[:training_samples]\n",
        "x_val = data[training_samples:training_samples+validation_samples]\n",
        "y_val = labels[training_samples:training_samples+validation_samples]"
      ],
      "execution_count": 46,
      "outputs": []
    },
    {
      "cell_type": "code",
      "metadata": {
        "colab": {
          "base_uri": "https://localhost:8080/"
        },
        "id": "PhSHQ7fs1AIK",
        "outputId": "841c374b-2f67-4bb1-8040-566359f41098"
      },
      "source": [
        "# build a model\n",
        "from tensorflow.keras.models import Sequential\n",
        "from tensorflow.keras.layers import Embedding, Flatten, Dense, Embedding\n",
        "embedding_dim =100\n",
        "\n",
        "model = Sequential()\n",
        "model.add(Embedding(max_words, embedding_dim, input_length=maxlen))\n",
        "model.add(Flatten())\n",
        "model.add(Dense(32, activation='relu'))\n",
        "model.add(Dense(16, activation='softmax'))\n",
        "model.summary()\n"
      ],
      "execution_count": 63,
      "outputs": [
        {
          "output_type": "stream",
          "text": [
            "Model: \"sequential_7\"\n",
            "_________________________________________________________________\n",
            "Layer (type)                 Output Shape              Param #   \n",
            "=================================================================\n",
            "embedding_5 (Embedding)      (None, 100, 100)          1000000   \n",
            "_________________________________________________________________\n",
            "flatten_4 (Flatten)          (None, 10000)             0         \n",
            "_________________________________________________________________\n",
            "dense_8 (Dense)              (None, 32)                320032    \n",
            "_________________________________________________________________\n",
            "dense_9 (Dense)              (None, 16)                528       \n",
            "=================================================================\n",
            "Total params: 1,320,560\n",
            "Trainable params: 1,320,560\n",
            "Non-trainable params: 0\n",
            "_________________________________________________________________\n"
          ],
          "name": "stdout"
        }
      ]
    },
    {
      "cell_type": "code",
      "metadata": {
        "colab": {
          "base_uri": "https://localhost:8080/"
        },
        "id": "AqYQRDMK125_",
        "outputId": "31b749cf-4e38-412a-f627-4f4e5a6bb0c5"
      },
      "source": [
        "y_train"
      ],
      "execution_count": 64,
      "outputs": [
        {
          "output_type": "execute_result",
          "data": {
            "text/plain": [
              "array([[0., 0., 0., ..., 0., 0., 0.],\n",
              "       [0., 0., 0., ..., 0., 0., 0.],\n",
              "       [0., 0., 1., ..., 0., 0., 0.],\n",
              "       ...,\n",
              "       [0., 0., 0., ..., 0., 0., 0.],\n",
              "       [0., 0., 0., ..., 1., 0., 0.],\n",
              "       [0., 0., 0., ..., 0., 0., 0.]], dtype=float32)"
            ]
          },
          "metadata": {
            "tags": []
          },
          "execution_count": 64
        }
      ]
    },
    {
      "cell_type": "code",
      "metadata": {
        "colab": {
          "base_uri": "https://localhost:8080/"
        },
        "id": "t46t6ps11AWC",
        "outputId": "11ff13ef-68e1-4f0d-d9d1-ca97c1c1d8ee"
      },
      "source": [
        "model.compile(optimizer='rmsprop',\n",
        "              loss='categorical_crossentropy',\n",
        "              metrics=['acc'])\n",
        "\n",
        "history = model.fit(x_train, y_train,\n",
        "                    epochs=10,\n",
        "                    batch_size=32,\n",
        "                    validation_data=(x_val, y_val))\n"
      ],
      "execution_count": 65,
      "outputs": [
        {
          "output_type": "stream",
          "text": [
            "Epoch 1/10\n",
            "313/313 [==============================] - 3s 10ms/step - loss: 2.7102 - acc: 0.0954 - val_loss: 2.6767 - val_acc: 0.1021\n",
            "Epoch 2/10\n",
            "313/313 [==============================] - 3s 9ms/step - loss: 2.5816 - acc: 0.1586 - val_loss: 2.6475 - val_acc: 0.1111\n",
            "Epoch 3/10\n",
            "313/313 [==============================] - 3s 9ms/step - loss: 2.3132 - acc: 0.2858 - val_loss: 2.6653 - val_acc: 0.1272\n",
            "Epoch 4/10\n",
            "313/313 [==============================] - 3s 9ms/step - loss: 1.9233 - acc: 0.4413 - val_loss: 2.7218 - val_acc: 0.1404\n",
            "Epoch 5/10\n",
            "313/313 [==============================] - 3s 9ms/step - loss: 1.5717 - acc: 0.5480 - val_loss: 2.9047 - val_acc: 0.1311\n",
            "Epoch 6/10\n",
            "313/313 [==============================] - 3s 9ms/step - loss: 1.3026 - acc: 0.6345 - val_loss: 3.0454 - val_acc: 0.1412\n",
            "Epoch 7/10\n",
            "313/313 [==============================] - 3s 9ms/step - loss: 1.0992 - acc: 0.6893 - val_loss: 3.3991 - val_acc: 0.1392\n",
            "Epoch 8/10\n",
            "313/313 [==============================] - 3s 9ms/step - loss: 0.9486 - acc: 0.7333 - val_loss: 3.5069 - val_acc: 0.1415\n",
            "Epoch 9/10\n",
            "313/313 [==============================] - 3s 8ms/step - loss: 0.8368 - acc: 0.7631 - val_loss: 3.7261 - val_acc: 0.1365\n",
            "Epoch 10/10\n",
            "313/313 [==============================] - 3s 9ms/step - loss: 0.7533 - acc: 0.7859 - val_loss: 3.9280 - val_acc: 0.1385\n"
          ],
          "name": "stdout"
        }
      ]
    },
    {
      "cell_type": "code",
      "metadata": {
        "colab": {
          "base_uri": "https://localhost:8080/",
          "height": 544
        },
        "id": "Bjk2czbp1Agi",
        "outputId": "041b410f-6b0c-4559-b218-210e56ad22f0"
      },
      "source": [
        "import matplotlib.pyplot as plt\n",
        "\n",
        "acc = history.history['acc']\n",
        "val_acc = history.history['val_acc']\n",
        "loss = history.history['loss']\n",
        "val_loss = history.history['val_loss']\n",
        "\n",
        "epochs = range(len(acc))\n",
        "\n",
        "plt.plot(epochs, acc, 'bo', label='Training acc')\n",
        "plt.plot(epochs, val_acc, 'b', label='Validation acc')\n",
        "plt.title('Training and validation accuracy')\n",
        "plt.legend()\n",
        "\n",
        "plt.figure()\n",
        "\n",
        "plt.plot(epochs, loss, 'bo', label='Training loss')\n",
        "plt.plot(epochs, val_loss, 'b', label='Validation loss')\n",
        "plt.title('Training and validation loss')\n",
        "plt.legend()\n",
        "\n",
        "plt.show()"
      ],
      "execution_count": 53,
      "outputs": [
        {
          "output_type": "display_data",
          "data": {
            "image/png": "[encoded data removed]",
            "text/plain": [
              "<Figure size 432x288 with 1 Axes>"
            ]
          },
          "metadata": {
            "tags": [],
            "needs_background": "light"
          }
        },
        {
          "output_type": "display_data",
          "data": {
            "image/png": "[encoded data removed]",
            "text/plain": [
              "<Figure size 432x288 with 1 Axes>"
            ]
          },
          "metadata": {
            "tags": [],
            "needs_background": "light"
          }
        }
      ]
    },
    {
      "cell_type": "markdown",
      "metadata": {
        "id": "-Kl0lvxt2_bO"
      },
      "source": [
        "### LSTM 사용"
      ]
    },
    {
      "cell_type": "code",
      "metadata": {
        "colab": {
          "base_uri": "https://localhost:8080/"
        },
        "id": "PmosHysn2_Cz",
        "outputId": "622ff57c-656c-4a70-9a84-0292cecc5ef5"
      },
      "source": [
        "# build a model\n",
        "from tensorflow.keras.models import Sequential\n",
        "from tensorflow.keras.layers import Embedding, Flatten, Dense, LSTM\n",
        "\n",
        "embedding_dim = 500\n",
        "\n",
        "model_LSTM = Sequential()\n",
        "model_LSTM.add(Embedding(max_words, embedding_dim, input_length=maxlen))\n",
        "model_LSTM.add(LSTM(64,  return_sequences=True))\n",
        "model_LSTM.add(LSTM(64,return_sequences=True))\n",
        "model_LSTM.add(LSTM(64,return_sequences=True))\n",
        "model_LSTM.add(Flatten())\n",
        "model_LSTM.add(Dense(32, activation='relu'))\n",
        "model_LSTM.add(Dense(16, activation='softmax'))\n",
        "model_LSTM.summary()\n"
      ],
      "execution_count": 66,
      "outputs": [
        {
          "output_type": "stream",
          "text": [
            "Model: \"sequential_8\"\n",
            "_________________________________________________________________\n",
            "Layer (type)                 Output Shape              Param #   \n",
            "=================================================================\n",
            "embedding_6 (Embedding)      (None, 100, 500)          5000000   \n",
            "_________________________________________________________________\n",
            "lstm_5 (LSTM)                (None, 100, 64)           144640    \n",
            "_________________________________________________________________\n",
            "lstm_6 (LSTM)                (None, 100, 64)           33024     \n",
            "_________________________________________________________________\n",
            "lstm_7 (LSTM)                (None, 100, 64)           33024     \n",
            "_________________________________________________________________\n",
            "flatten_5 (Flatten)          (None, 6400)              0         \n",
            "_________________________________________________________________\n",
            "dense_10 (Dense)             (None, 32)                204832    \n",
            "_________________________________________________________________\n",
            "dense_11 (Dense)             (None, 16)                528       \n",
            "=================================================================\n",
            "Total params: 5,416,048\n",
            "Trainable params: 5,416,048\n",
            "Non-trainable params: 0\n",
            "_________________________________________________________________\n"
          ],
          "name": "stdout"
        }
      ]
    },
    {
      "cell_type": "code",
      "metadata": {
        "colab": {
          "base_uri": "https://localhost:8080/"
        },
        "id": "C6dDmzUu3DI7",
        "outputId": "37e1c65b-095b-4023-ed6d-4beb35a78c58"
      },
      "source": [
        "model_LSTM.compile(optimizer='Adam',\n",
        "              loss='categorical_crossentropy',\n",
        "              metrics=['acc'])\n",
        "\n",
        "model_LSTM_history = model_LSTM.fit(x_train, y_train,\n",
        "                    epochs=20,\n",
        "                    batch_size=128,\n",
        "                    validation_split=0.2)"
      ],
      "execution_count": 67,
      "outputs": [
        {
          "output_type": "stream",
          "text": [
            "Epoch 1/20\n",
            "63/63 [==============================] - 51s 591ms/step - loss: 2.7151 - acc: 0.0881 - val_loss: 2.6931 - val_acc: 0.0925\n",
            "Epoch 2/20\n",
            "63/63 [==============================] - 37s 588ms/step - loss: 2.6784 - acc: 0.1014 - val_loss: 2.6858 - val_acc: 0.1030\n",
            "Epoch 3/20\n",
            "63/63 [==============================] - 37s 589ms/step - loss: 2.5675 - acc: 0.1371 - val_loss: 2.7464 - val_acc: 0.0865\n",
            "Epoch 4/20\n",
            "63/63 [==============================] - 36s 578ms/step - loss: 2.2958 - acc: 0.2345 - val_loss: 2.9837 - val_acc: 0.1415\n",
            "Epoch 5/20\n",
            "63/63 [==============================] - 37s 582ms/step - loss: 1.9892 - acc: 0.3405 - val_loss: 3.3386 - val_acc: 0.1525\n",
            "Epoch 6/20\n",
            "63/63 [==============================] - 37s 583ms/step - loss: 1.7582 - acc: 0.4209 - val_loss: 3.7282 - val_acc: 0.1345\n",
            "Epoch 7/20\n",
            "63/63 [==============================] - 37s 586ms/step - loss: 1.5718 - acc: 0.4902 - val_loss: 4.2036 - val_acc: 0.1530\n",
            "Epoch 8/20\n",
            "63/63 [==============================] - 36s 579ms/step - loss: 1.4082 - acc: 0.5408 - val_loss: 5.2396 - val_acc: 0.1345\n",
            "Epoch 9/20\n",
            "63/63 [==============================] - 36s 573ms/step - loss: 1.2966 - acc: 0.5859 - val_loss: 5.2678 - val_acc: 0.1475\n",
            "Epoch 10/20\n",
            "63/63 [==============================] - 37s 581ms/step - loss: 1.1605 - acc: 0.6319 - val_loss: 6.0661 - val_acc: 0.1420\n",
            "Epoch 11/20\n",
            "63/63 [==============================] - 36s 574ms/step - loss: 1.0803 - acc: 0.6604 - val_loss: 6.4505 - val_acc: 0.1415\n",
            "Epoch 12/20\n",
            "63/63 [==============================] - 36s 577ms/step - loss: 1.0030 - acc: 0.6840 - val_loss: 6.7581 - val_acc: 0.1435\n",
            "Epoch 13/20\n",
            "63/63 [==============================] - 37s 590ms/step - loss: 0.9431 - acc: 0.7010 - val_loss: 7.3796 - val_acc: 0.1440\n",
            "Epoch 14/20\n",
            "63/63 [==============================] - 37s 592ms/step - loss: 0.8848 - acc: 0.7234 - val_loss: 7.7091 - val_acc: 0.1490\n",
            "Epoch 15/20\n",
            "63/63 [==============================] - 37s 585ms/step - loss: 0.8565 - acc: 0.7314 - val_loss: 7.9523 - val_acc: 0.1400\n",
            "Epoch 16/20\n",
            "63/63 [==============================] - 38s 602ms/step - loss: 0.8164 - acc: 0.7444 - val_loss: 8.2059 - val_acc: 0.1405\n",
            "Epoch 17/20\n",
            "63/63 [==============================] - 38s 602ms/step - loss: 0.7635 - acc: 0.7564 - val_loss: 8.4947 - val_acc: 0.1450\n",
            "Epoch 18/20\n",
            "63/63 [==============================] - 38s 600ms/step - loss: 0.7287 - acc: 0.7680 - val_loss: 8.9274 - val_acc: 0.1470\n",
            "Epoch 19/20\n",
            "63/63 [==============================] - 38s 597ms/step - loss: 0.6931 - acc: 0.7810 - val_loss: 9.3821 - val_acc: 0.1420\n",
            "Epoch 20/20\n",
            "63/63 [==============================] - 37s 591ms/step - loss: 0.6695 - acc: 0.7856 - val_loss: 9.7355 - val_acc: 0.1435\n"
          ],
          "name": "stdout"
        }
      ]
    },
    {
      "cell_type": "code",
      "metadata": {
        "colab": {
          "base_uri": "https://localhost:8080/",
          "height": 544
        },
        "id": "s668fRx23DWT",
        "outputId": "820cc95c-9d70-4ce9-91e3-e845687a8dc3"
      },
      "source": [
        "import matplotlib.pyplot as plt\n",
        "\n",
        "acc = model_LSTM_history.history['acc']\n",
        "val_acc = model_LSTM_history.history['val_acc']\n",
        "loss = model_LSTM_history.history['loss']\n",
        "val_loss = model_LSTM_history.history['val_loss']\n",
        "\n",
        "epochs = range(len(acc))\n",
        "\n",
        "plt.plot(epochs, acc, 'bo', label='Training acc')\n",
        "plt.plot(epochs, val_acc, 'b', label='Validation acc')\n",
        "plt.title('Training and validation accuracy')\n",
        "plt.legend()\n",
        "\n",
        "plt.figure()\n",
        "\n",
        "plt.plot(epochs, loss, 'bo', label='Training loss')\n",
        "plt.plot(epochs, val_loss, 'b', label='Validation loss')\n",
        "plt.title('Training and validation loss')\n",
        "plt.legend()\n",
        "\n",
        "plt.show()"
      ],
      "execution_count": 68,
      "outputs": [
        {
          "output_type": "display_data",
          "data": {
            "image/png": "[encoded data removed]",
            "text/plain": [
              "<Figure size 432x288 with 1 Axes>"
            ]
          },
          "metadata": {
            "tags": [],
            "needs_background": "light"
          }
        },
        {
          "output_type": "display_data",
          "data": {
            "image/png": "[encoded data removed]",
            "text/plain": [
              "<Figure size 432x288 with 1 Axes>"
            ]
          },
          "metadata": {
            "tags": [],
            "needs_background": "light"
          }
        }
      ]
    },
    {
      "cell_type": "markdown",
      "metadata": {
        "id": "SKNyBhVP3hBs"
      },
      "source": [
        "\n",
        "결과는 매우 실망스러움 .....\n",
        "\n",
        "Kobert로 시도해보자 !"
      ]
    },
    {
      "cell_type": "markdown",
      "metadata": {
        "id": "Bz6twAG1fpPL"
      },
      "source": [
        "## SKT Kobert 사용\n",
        "\n",
        "결론적으로 Colab Ram 제한으로 계속해서 실패함.\n",
        "\n",
        "reference : SKT brain Manual Guidline\n",
        "\n",
        "https://github.com/aeddung/ML-DL/blob/main/koBert_multiclassification.py\n"
      ]
    },
    {
      "cell_type": "markdown",
      "metadata": {
        "id": "-mOae6GRiVRT"
      },
      "source": [
        "### KoBert dataset 맞게 전처리"
      ]
    },
    {
      "cell_type": "code",
      "metadata": {
        "colab": {
          "base_uri": "https://localhost:8080/"
        },
        "id": "I1Q02sWxiJ_T",
        "outputId": "164ab5dc-3ae9-4db8-b550-7d8671474869"
      },
      "source": [
        "# bert dataset 맞게 변형 \n",
        "\n",
        "from sklearn.preprocessing import LabelEncoder\n",
        "\n",
        "mydata = result.dropna()\n",
        "encoder = LabelEncoder()\n",
        "encoder.fit(mydata['label'])\n",
        "mydata['label'] = encoder.transform(mydata['label'])"
      ],
      "execution_count": null,
      "outputs": [
        {
          "output_type": "stream",
          "text": [
            "/usr/local/lib/python3.7/dist-packages/ipykernel_launcher.py:8: SettingWithCopyWarning: \n",
            "A value is trying to be set on a copy of a slice from a DataFrame.\n",
            "Try using .loc[row_indexer,col_indexer] = value instead\n",
            "\n",
            "See the caveats in the documentation: https://pandas.pydata.org/pandas-docs/stable/user_guide/indexing.html#returning-a-view-versus-a-copy\n",
            "  \n"
          ],
          "name": "stderr"
        }
      ]
    },
    {
      "cell_type": "code",
      "metadata": {
        "colab": {
          "base_uri": "https://localhost:8080/",
          "height": 204
        },
        "id": "CpM4DkKhia4j",
        "outputId": "9d49d9f9-d572-4600-98bf-e389449804c3"
      },
      "source": [
        "mydata.head()"
      ],
      "execution_count": null,
      "outputs": [
        {
          "output_type": "execute_result",
          "data": {
            "text/html": [
              "<div>\n",
              "<style scoped>\n",
              "    .dataframe tbody tr th:only-of-type {\n",
              "        vertical-align: middle;\n",
              "    }\n",
              "\n",
              "    .dataframe tbody tr th {\n",
              "        vertical-align: top;\n",
              "    }\n",
              "\n",
              "    .dataframe thead th {\n",
              "        text-align: right;\n",
              "    }\n",
              "</style>\n",
              "<table border=\"1\" class=\"dataframe\">\n",
              "  <thead>\n",
              "    <tr style=\"text-align: right;\">\n",
              "      <th></th>\n",
              "      <th>title</th>\n",
              "      <th>content</th>\n",
              "      <th>label</th>\n",
              "    </tr>\n",
              "  </thead>\n",
              "  <tbody>\n",
              "    <tr>\n",
              "      <th>0</th>\n",
              "      <td>사랑해요 엔프제</td>\n",
              "      <td>천사가 있다면 당신일 것&lt;U+00A0&gt;</td>\n",
              "      <td>0</td>\n",
              "    </tr>\n",
              "    <tr>\n",
              "      <th>1</th>\n",
              "      <td>ㅎㅇ</td>\n",
              "      <td>너희들 다 내 거임</td>\n",
              "      <td>0</td>\n",
              "    </tr>\n",
              "    <tr>\n",
              "      <th>2</th>\n",
              "      <td>엔프제 갤러리 특)</td>\n",
              "      <td>엔프제는 없고엔프제를 보려는 관객만 있다</td>\n",
              "      <td>0</td>\n",
              "    </tr>\n",
              "    <tr>\n",
              "      <th>4</th>\n",
              "      <td>ㅎㅇㅎㅇ</td>\n",
              "      <td>엔갤 흥하길 바람</td>\n",
              "      <td>0</td>\n",
              "    </tr>\n",
              "    <tr>\n",
              "      <th>5</th>\n",
              "      <td>엔프제 노무 부러워</td>\n",
              "      <td>니네 성격 나줘ㅡㅡ</td>\n",
              "      <td>0</td>\n",
              "    </tr>\n",
              "  </tbody>\n",
              "</table>\n",
              "</div>"
            ],
            "text/plain": [
              "        title                                 content  label\n",
              "0    사랑해요 엔프제           천사가 있다면 당신일 것<U+00A0>              0\n",
              "1          ㅎㅇ                              너희들 다 내 거임      0\n",
              "2  엔프제 갤러리 특)                  엔프제는 없고엔프제를 보려는 관객만 있다      0\n",
              "4        ㅎㅇㅎㅇ                               엔갤 흥하길 바람      0\n",
              "5  엔프제 노무 부러워                             니네 성격 나줘ㅡㅡ       0"
            ]
          },
          "metadata": {
            "tags": []
          },
          "execution_count": 21
        }
      ]
    },
    {
      "cell_type": "markdown",
      "metadata": {
        "id": "JQtZ0ByJA8KM"
      },
      "source": [
        "### Kobert 설치 "
      ]
    },
    {
      "cell_type": "code",
      "metadata": {
        "colab": {
          "base_uri": "https://localhost:8080/"
        },
        "id": "5--qj7Z8WjNe",
        "outputId": "8dc6b68a-6895-472f-df55-79e2185cbfa3"
      },
      "source": [
        "!pip install mxnet\n",
        "!pip install gluonnlp pandas tqdm\n",
        "!pip install sentencepiece\n",
        "!pip install transformers==3 # 최신 버전 설치시,  에러 발생\n",
        "!pip install torch"
      ],
      "execution_count": null,
      "outputs": [
        {
          "output_type": "stream",
          "text": [
            "Collecting mxnet\n",
            "\u001b[?25l  Downloading https://files.pythonhosted.org/packages/30/07/66174e78c12a3048db9039aaa09553e35035ef3a008ba3e0ed8d2aa3c47b/mxnet-1.8.0.post0-py2.py3-none-manylinux2014_x86_64.whl (46.9MB)\n",
            "\u001b[K     |████████████████████████████████| 46.9MB 92kB/s \n",
            "\u001b[?25hRequirement already satisfied: numpy<2.0.0,>1.16.0 in /usr/local/lib/python3.7/dist-packages (from mxnet) (1.19.5)\n",
            "Requirement already satisfied: requests<3,>=2.20.0 in /usr/local/lib/python3.7/dist-packages (from mxnet) (2.23.0)\n",
            "Collecting graphviz<0.9.0,>=0.8.1\n",
            "  Downloading https://files.pythonhosted.org/packages/53/39/4ab213673844e0c004bed8a0781a0721a3f6bb23eb8854ee75c236428892/graphviz-0.8.4-py2.py3-none-any.whl\n",
            "Requirement already satisfied: chardet<4,>=3.0.2 in /usr/local/lib/python3.7/dist-packages (from requests<3,>=2.20.0->mxnet) (3.0.4)\n",
            "Requirement already satisfied: idna<3,>=2.5 in /usr/local/lib/python3.7/dist-packages (from requests<3,>=2.20.0->mxnet) (2.10)\n",
            "Requirement already satisfied: certifi>=2017.4.17 in /usr/local/lib/python3.7/dist-packages (from requests<3,>=2.20.0->mxnet) (2021.5.30)\n",
            "Requirement already satisfied: urllib3!=1.25.0,!=1.25.1,<1.26,>=1.21.1 in /usr/local/lib/python3.7/dist-packages (from requests<3,>=2.20.0->mxnet) (1.24.3)\n",
            "Installing collected packages: graphviz, mxnet\n",
            "  Found existing installation: graphviz 0.10.1\n",
            "    Uninstalling graphviz-0.10.1:\n",
            "      Successfully uninstalled graphviz-0.10.1\n",
            "Successfully installed graphviz-0.8.4 mxnet-1.8.0.post0\n",
            "Collecting gluonnlp\n",
            "\u001b[?25l  Downloading https://files.pythonhosted.org/packages/9c/81/a238e47ccba0d7a61dcef4e0b4a7fd4473cb86bed3d84dd4fe28d45a0905/gluonnlp-0.10.0.tar.gz (344kB)\n",
            "\u001b[K     |████████████████████████████████| 348kB 4.0MB/s \n",
            "\u001b[?25hRequirement already satisfied: pandas in /usr/local/lib/python3.7/dist-packages (1.1.5)\n",
            "Requirement already satisfied: tqdm in /usr/local/lib/python3.7/dist-packages (4.41.1)\n",
            "Requirement already satisfied: numpy>=1.16.0 in /usr/local/lib/python3.7/dist-packages (from gluonnlp) (1.19.5)\n",
            "Requirement already satisfied: cython in /usr/local/lib/python3.7/dist-packages (from gluonnlp) (0.29.23)\n",
            "Requirement already satisfied: packaging in /usr/local/lib/python3.7/dist-packages (from gluonnlp) (20.9)\n",
            "Requirement already satisfied: python-dateutil>=2.7.3 in /usr/local/lib/python3.7/dist-packages (from pandas) (2.8.1)\n",
            "Requirement already satisfied: pytz>=2017.2 in /usr/local/lib/python3.7/dist-packages (from pandas) (2018.9)\n",
            "Requirement already satisfied: pyparsing>=2.0.2 in /usr/local/lib/python3.7/dist-packages (from packaging->gluonnlp) (2.4.7)\n",
            "Requirement already satisfied: six>=1.5 in /usr/local/lib/python3.7/dist-packages (from python-dateutil>=2.7.3->pandas) (1.15.0)\n",
            "Building wheels for collected packages: gluonnlp\n",
            "  Building wheel for gluonnlp (setup.py) ... \u001b[?25l\u001b[?25hdone\n",
            "  Created wheel for gluonnlp: filename=gluonnlp-0.10.0-cp37-cp37m-linux_x86_64.whl size=595700 sha256=033c6398938e61a066139c38ddac384f6896e90d75bde8182fee5c37d46ca5d9\n",
            "  Stored in directory: /root/.cache/pip/wheels/37/65/52/63032864a0f31a08b9a88569f803b5bafac8abd207fd7f7534\n",
            "Successfully built gluonnlp\n",
            "Installing collected packages: gluonnlp\n",
            "Successfully installed gluonnlp-0.10.0\n",
            "Collecting sentencepiece\n",
            "\u001b[?25l  Downloading https://files.pythonhosted.org/packages/f5/99/e0808cb947ba10f575839c43e8fafc9cc44e4a7a2c8f79c60db48220a577/sentencepiece-0.1.95-cp37-cp37m-manylinux2014_x86_64.whl (1.2MB)\n",
            "\u001b[K     |████████████████████████████████| 1.2MB 4.0MB/s \n",
            "\u001b[?25hInstalling collected packages: sentencepiece\n",
            "Successfully installed sentencepiece-0.1.95\n",
            "Collecting transformers==3\n",
            "\u001b[?25l  Downloading https://files.pythonhosted.org/packages/9c/35/1c3f6e62d81f5f0daff1384e6d5e6c5758682a8357ebc765ece2b9def62b/transformers-3.0.0-py3-none-any.whl (754kB)\n",
            "\u001b[K     |████████████████████████████████| 757kB 3.8MB/s \n",
            "\u001b[?25hRequirement already satisfied: requests in /usr/local/lib/python3.7/dist-packages (from transformers==3) (2.23.0)\n",
            "Requirement already satisfied: sentencepiece in /usr/local/lib/python3.7/dist-packages (from transformers==3) (0.1.95)\n",
            "Requirement already satisfied: filelock in /usr/local/lib/python3.7/dist-packages (from transformers==3) (3.0.12)\n",
            "Requirement already satisfied: packaging in /usr/local/lib/python3.7/dist-packages (from transformers==3) (20.9)\n",
            "Requirement already satisfied: tqdm>=4.27 in /usr/local/lib/python3.7/dist-packages (from transformers==3) (4.41.1)\n",
            "Requirement already satisfied: regex!=2019.12.17 in /usr/local/lib/python3.7/dist-packages (from transformers==3) (2019.12.20)\n",
            "Collecting tokenizers==0.8.0-rc4\n",
            "\u001b[?25l  Downloading https://files.pythonhosted.org/packages/f7/82/0e82a95bd9db2b32569500cc1bb47aa7c4e0f57aa5e35cceba414096917b/tokenizers-0.8.0rc4-cp37-cp37m-manylinux1_x86_64.whl (3.0MB)\n",
            "\u001b[K     |████████████████████████████████| 3.0MB 24.9MB/s \n",
            "\u001b[?25hRequirement already satisfied: numpy in /usr/local/lib/python3.7/dist-packages (from transformers==3) (1.19.5)\n",
            "Collecting sacremoses\n",
            "\u001b[?25l  Downloading https://files.pythonhosted.org/packages/75/ee/67241dc87f266093c533a2d4d3d69438e57d7a90abb216fa076e7d475d4a/sacremoses-0.0.45-py3-none-any.whl (895kB)\n",
            "\u001b[K     |████████████████████████████████| 901kB 41.6MB/s \n",
            "\u001b[?25hRequirement already satisfied: idna<3,>=2.5 in /usr/local/lib/python3.7/dist-packages (from requests->transformers==3) (2.10)\n",
            "Requirement already satisfied: urllib3!=1.25.0,!=1.25.1,<1.26,>=1.21.1 in /usr/local/lib/python3.7/dist-packages (from requests->transformers==3) (1.24.3)\n",
            "Requirement already satisfied: chardet<4,>=3.0.2 in /usr/local/lib/python3.7/dist-packages (from requests->transformers==3) (3.0.4)\n",
            "Requirement already satisfied: certifi>=2017.4.17 in /usr/local/lib/python3.7/dist-packages (from requests->transformers==3) (2021.5.30)\n",
            "Requirement already satisfied: pyparsing>=2.0.2 in /usr/local/lib/python3.7/dist-packages (from packaging->transformers==3) (2.4.7)\n",
            "Requirement already satisfied: click in /usr/local/lib/python3.7/dist-packages (from sacremoses->transformers==3) (7.1.2)\n",
            "Requirement already satisfied: six in /usr/local/lib/python3.7/dist-packages (from sacremoses->transformers==3) (1.15.0)\n",
            "Requirement already satisfied: joblib in /usr/local/lib/python3.7/dist-packages (from sacremoses->transformers==3) (1.0.1)\n",
            "Installing collected packages: tokenizers, sacremoses, transformers\n",
            "Successfully installed sacremoses-0.0.45 tokenizers-0.8.0rc4 transformers-3.0.0\n",
            "Requirement already satisfied: torch in /usr/local/lib/python3.7/dist-packages (1.8.1+cu101)\n",
            "Requirement already satisfied: numpy in /usr/local/lib/python3.7/dist-packages (from torch) (1.19.5)\n",
            "Requirement already satisfied: typing-extensions in /usr/local/lib/python3.7/dist-packages (from torch) (3.7.4.3)\n"
          ],
          "name": "stdout"
        }
      ]
    },
    {
      "cell_type": "code",
      "metadata": {
        "colab": {
          "base_uri": "https://localhost:8080/"
        },
        "id": "Ngvnrzzxhjv6",
        "outputId": "fd1d4d86-739b-4f8d-a100-e5d6ed919e4e"
      },
      "source": [
        "!pip install git+https://git@github.com/SKTBrain/KoBERT.git@master"
      ],
      "execution_count": null,
      "outputs": [
        {
          "output_type": "stream",
          "text": [
            "Collecting git+https://****@github.com/SKTBrain/KoBERT.git@master\n",
            "  Cloning https://****@github.com/SKTBrain/KoBERT.git (to revision master) to /tmp/pip-req-build-g3o1rwsi\n",
            "  Running command git clone -q 'https://****@github.com/SKTBrain/KoBERT.git' /tmp/pip-req-build-g3o1rwsi\n",
            "Building wheels for collected packages: kobert\n",
            "  Building wheel for kobert (setup.py) ... \u001b[?25l\u001b[?25hdone\n",
            "  Created wheel for kobert: filename=kobert-0.1.2-cp37-none-any.whl size=12718 sha256=26f67ec7860e42154a082f039479caff9b9bb80fa0237cfc183c4a41b09d660f\n",
            "  Stored in directory: /tmp/pip-ephem-wheel-cache-7sy2k11c/wheels/a2/b0/41/435ee4e918f91918be41529283c5ff86cd010f02e7525aecf3\n",
            "Successfully built kobert\n",
            "Installing collected packages: kobert\n",
            "Successfully installed kobert-0.1.2\n"
          ],
          "name": "stdout"
        }
      ]
    },
    {
      "cell_type": "code",
      "metadata": {
        "id": "ZwBXESmghnJh"
      },
      "source": [
        "import torch\n",
        "from torch import nn\n",
        "import torch.nn.functional as F\n",
        "import torch.optim as optim\n",
        "from torch.utils.data import Dataset, DataLoader\n",
        "import gluonnlp as nlp\n",
        "import numpy as np\n",
        "from tqdm import tqdm, tqdm_notebook"
      ],
      "execution_count": null,
      "outputs": []
    },
    {
      "cell_type": "code",
      "metadata": {
        "id": "_r-1ejebhoEp"
      },
      "source": [
        "from kobert.utils import get_tokenizer\n",
        "from kobert.pytorch_kobert import get_pytorch_kobert_model"
      ],
      "execution_count": null,
      "outputs": []
    },
    {
      "cell_type": "code",
      "metadata": {
        "id": "FuhWu7Rthpai"
      },
      "source": [
        "from transformers import AdamW\n",
        "from transformers.optimization import get_cosine_schedule_with_warmup"
      ],
      "execution_count": null,
      "outputs": []
    },
    {
      "cell_type": "code",
      "metadata": {
        "colab": {
          "base_uri": "https://localhost:8080/"
        },
        "id": "XM2D6h_4-Jkk",
        "outputId": "804019a1-3c4a-4e5a-d6ce-8f10afd870b3"
      },
      "source": [
        "!wget https://www.dropbox.com/s/374ftkec978br3d/ratings_train.txt?dl=1\n",
        "!wget https://www.dropbox.com/s/977gbwh542gdy94/ratings_test.txt?dl=1"
      ],
      "execution_count": null,
      "outputs": [
        {
          "output_type": "stream",
          "text": [
            "--2021-06-15 10:42:18--  https://www.dropbox.com/s/374ftkec978br3d/ratings_train.txt?dl=1\n",
            "Resolving www.dropbox.com (www.dropbox.com)... 162.125.5.18, 2620:100:601d:18::a27d:512\n",
            "Connecting to www.dropbox.com (www.dropbox.com)|162.125.5.18|:443... connected.\n",
            "HTTP request sent, awaiting response... 301 Moved Permanently\n",
            "Location: /s/dl/374ftkec978br3d/ratings_train.txt [following]\n",
            "--2021-06-15 10:42:18--  https://www.dropbox.com/s/dl/374ftkec978br3d/ratings_train.txt\n",
            "Reusing existing connection to www.dropbox.com:443.\n",
            "HTTP request sent, awaiting response... 302 Found\n",
            "Location: https://uc4ff4234e1efeb6d9eec24d8efc.dl.dropboxusercontent.com/cd/0/get/BQeBgQFsn0BinTJQIPKQ2Ps4InozAdDJBCCPFF2t6NcWW-5owcVPUiZstnsLWWm_x1w2ugn1bMQaRbqJXb1n5Ts6mygQg6KBB6hldJCO3YlHvYfXXaqTg9ivRKI2SRfzq0dhmo_FCoMOLggkpDHx7t7Y/file?dl=1# [following]\n",
            "--2021-06-15 10:42:19--  https://uc4ff4234e1efeb6d9eec24d8efc.dl.dropboxusercontent.com/cd/0/get/BQeBgQFsn0BinTJQIPKQ2Ps4InozAdDJBCCPFF2t6NcWW-5owcVPUiZstnsLWWm_x1w2ugn1bMQaRbqJXb1n5Ts6mygQg6KBB6hldJCO3YlHvYfXXaqTg9ivRKI2SRfzq0dhmo_FCoMOLggkpDHx7t7Y/file?dl=1\n",
            "Resolving uc4ff4234e1efeb6d9eec24d8efc.dl.dropboxusercontent.com (uc4ff4234e1efeb6d9eec24d8efc.dl.dropboxusercontent.com)... 162.125.5.15, 2620:100:601d:15::a27d:50f\n",
            "Connecting to uc4ff4234e1efeb6d9eec24d8efc.dl.dropboxusercontent.com (uc4ff4234e1efeb6d9eec24d8efc.dl.dropboxusercontent.com)|162.125.5.15|:443... connected.\n",
            "HTTP request sent, awaiting response... 200 OK\n",
            "Length: 14628807 (14M) [application/binary]\n",
            "Saving to: ‘ratings_train.txt?dl=1.8’\n",
            "\n",
            "ratings_train.txt?d 100%[===================>]  13.95M  30.3MB/s    in 0.5s    \n",
            "\n",
            "2021-06-15 10:42:20 (30.3 MB/s) - ‘ratings_train.txt?dl=1.8’ saved [14628807/14628807]\n",
            "\n",
            "--2021-06-15 10:42:20--  https://www.dropbox.com/s/977gbwh542gdy94/ratings_test.txt?dl=1\n",
            "Resolving www.dropbox.com (www.dropbox.com)... 162.125.5.18, 2620:100:601d:18::a27d:512\n",
            "Connecting to www.dropbox.com (www.dropbox.com)|162.125.5.18|:443... connected.\n",
            "HTTP request sent, awaiting response... 301 Moved Permanently\n",
            "Location: /s/dl/977gbwh542gdy94/ratings_test.txt [following]\n",
            "--2021-06-15 10:42:20--  https://www.dropbox.com/s/dl/977gbwh542gdy94/ratings_test.txt\n",
            "Reusing existing connection to www.dropbox.com:443.\n",
            "HTTP request sent, awaiting response... 302 Found\n",
            "Location: https://uccef796d572c38dc10e31de37b5.dl.dropboxusercontent.com/cd/0/get/BQd50OGYiJi0MuDA9cwT1uSpYTDYNN3Vd4uTElAXIvr7cVjFnCsdl4D0TVX0rk7HaA-OicILAyJx3ZPHGO84dwFWW6XyBykFQ2xJ5W6fkYBER_uMZ8JlDgYnk3lHIOJPC93yXF1M1nc8-pVboAE19pEq/file?dl=1# [following]\n",
            "--2021-06-15 10:42:20--  https://uccef796d572c38dc10e31de37b5.dl.dropboxusercontent.com/cd/0/get/BQd50OGYiJi0MuDA9cwT1uSpYTDYNN3Vd4uTElAXIvr7cVjFnCsdl4D0TVX0rk7HaA-OicILAyJx3ZPHGO84dwFWW6XyBykFQ2xJ5W6fkYBER_uMZ8JlDgYnk3lHIOJPC93yXF1M1nc8-pVboAE19pEq/file?dl=1\n",
            "Resolving uccef796d572c38dc10e31de37b5.dl.dropboxusercontent.com (uccef796d572c38dc10e31de37b5.dl.dropboxusercontent.com)... 162.125.5.15, 2620:100:601d:15::a27d:50f\n",
            "Connecting to uccef796d572c38dc10e31de37b5.dl.dropboxusercontent.com (uccef796d572c38dc10e31de37b5.dl.dropboxusercontent.com)|162.125.5.15|:443... connected.\n",
            "HTTP request sent, awaiting response... 200 OK\n",
            "Length: 4893335 (4.7M) [application/binary]\n",
            "Saving to: ‘ratings_test.txt?dl=1.8’\n",
            "\n",
            "ratings_test.txt?dl 100%[===================>]   4.67M  22.9MB/s    in 0.2s    \n",
            "\n",
            "2021-06-15 10:42:21 (22.9 MB/s) - ‘ratings_test.txt?dl=1.8’ saved [4893335/4893335]\n",
            "\n"
          ],
          "name": "stdout"
        }
      ]
    },
    {
      "cell_type": "code",
      "metadata": {
        "colab": {
          "base_uri": "https://localhost:8080/"
        },
        "id": "rOGaU2QfGqor",
        "outputId": "26b484b8-41b3-49c3-a4ff-21fb8d75fa70"
      },
      "source": [
        "device = torch.device(\"cuda:0\" if torch.cuda.is_available() else \"cpu\")\n",
        "print(f'device : {device}')\n",
        "device='cpu'"
      ],
      "execution_count": null,
      "outputs": [
        {
          "output_type": "stream",
          "text": [
            "device : cpu\n"
          ],
          "name": "stdout"
        }
      ]
    },
    {
      "cell_type": "code",
      "metadata": {
        "colab": {
          "base_uri": "https://localhost:8080/"
        },
        "id": "lNNJ7VC9h4fD",
        "outputId": "05a0cc6b-ba34-492c-eff3-b5ef66625ef0"
      },
      "source": [
        "bertmodel, vocab = get_pytorch_kobert_model() # Bert model download"
      ],
      "execution_count": null,
      "outputs": [
        {
          "output_type": "stream",
          "text": [
            "[██████████████████████████████████████████████████]\n",
            "[██████████████████████████████████████████████████]\n"
          ],
          "name": "stdout"
        }
      ]
    },
    {
      "cell_type": "code",
      "metadata": {
        "colab": {
          "base_uri": "https://localhost:8080/"
        },
        "id": "HQ9Ttp-_LDRQ",
        "outputId": "7eb02c09-317b-465d-b44c-b598d91d9bf3"
      },
      "source": [
        "vocab"
      ],
      "execution_count": null,
      "outputs": [
        {
          "output_type": "execute_result",
          "data": {
            "text/plain": [
              "Vocab(size=8002, unk=\"[UNK]\", reserved=\"['[CLS]', '[SEP]', '[MASK]', '[PAD]']\")"
            ]
          },
          "metadata": {
            "tags": []
          },
          "execution_count": 30
        }
      ]
    },
    {
      "cell_type": "markdown",
      "metadata": {
        "id": "yC1p0uS2-J7M"
      },
      "source": [
        "## Bert 사용을 위한 전처리"
      ]
    },
    {
      "cell_type": "markdown",
      "metadata": {
        "id": "eY7WXTw-BX7l"
      },
      "source": [
        "## Train Test Split "
      ]
    },
    {
      "cell_type": "code",
      "metadata": {
        "id": "o2jFEz5a_YWi"
      },
      "source": [
        "dataset =  mydata[['content','label']].values"
      ],
      "execution_count": null,
      "outputs": []
    },
    {
      "cell_type": "code",
      "metadata": {
        "colab": {
          "base_uri": "https://localhost:8080/"
        },
        "id": "LjoXe87RBWDy",
        "outputId": "56b87ddb-d56a-4f78-c642-cc84eb10f592"
      },
      "source": [
        "from sklearn.model_selection import train_test_split\n",
        "train, test = train_test_split(dataset, test_size=0.2, random_state=16102166)\n",
        "print(\"train shape is:\", len(train))\n",
        "print(\"test shape is:\", len(test))"
      ],
      "execution_count": null,
      "outputs": [
        {
          "output_type": "stream",
          "text": [
            "train shape is: 21316\n",
            "test shape is: 5329\n"
          ],
          "name": "stdout"
        }
      ]
    },
    {
      "cell_type": "code",
      "metadata": {
        "colab": {
          "base_uri": "https://localhost:8080/"
        },
        "id": "6x4H-r93_871",
        "outputId": "b5780b44-d545-48ea-f343-1fc4c0c9416a"
      },
      "source": [
        "max(mydata['label'])"
      ],
      "execution_count": null,
      "outputs": [
        {
          "output_type": "execute_result",
          "data": {
            "text/plain": [
              "15"
            ]
          },
          "metadata": {
            "tags": []
          },
          "execution_count": 33
        }
      ]
    },
    {
      "cell_type": "markdown",
      "metadata": {
        "id": "xoXe-FvqBpnV"
      },
      "source": [
        "## Bert Tokenizer 사용 "
      ]
    },
    {
      "cell_type": "code",
      "metadata": {
        "colab": {
          "base_uri": "https://localhost:8080/"
        },
        "id": "zTro_13UhwnE",
        "outputId": "7a92c770-d4ce-4f61-c4a5-7232bb5fa4b7"
      },
      "source": [
        "tokenizer = get_tokenizer()\n",
        "tok = nlp.data.BERTSPTokenizer(tokenizer, vocab, lower=False)"
      ],
      "execution_count": null,
      "outputs": [
        {
          "output_type": "stream",
          "text": [
            "using cached model\n"
          ],
          "name": "stdout"
        }
      ]
    },
    {
      "cell_type": "code",
      "metadata": {
        "id": "tpd2Wujeh0AJ"
      },
      "source": [
        "class BERTDataset(Dataset):\n",
        "    def __init__(self, dataset, sent_idx, label_idx, bert_tokenizer, max_len,\n",
        "                 pad, pair):\n",
        "        transform = nlp.data.BERTSentenceTransform(\n",
        "            bert_tokenizer, max_seq_length=max_len, pad=pad, pair=pair) \n",
        "\n",
        "        self.sentences = [transform([i[sent_idx]]) for i in dataset]\n",
        "        self.labels = [np.int32(i[label_idx]) for i in dataset]\n",
        "\n",
        "    def __getitem__(self, i):\n",
        "        return (self.sentences[i] + (self.labels[i], ))\n",
        "\n",
        "    def __len__(self):\n",
        "        return (len(self.labels))"
      ],
      "execution_count": null,
      "outputs": []
    },
    {
      "cell_type": "code",
      "metadata": {
        "id": "4sotA9K9OTyz"
      },
      "source": [
        "# Setting parameters\n",
        "max_len = 64 # 해당 길이를 초과하는 단어에 대해선 bert가 학습하지 않음\n",
        "batch_size = 64\n",
        "warmup_ratio = 0.1\n",
        "num_epochs = 5\n",
        "max_grad_norm = 1\n",
        "log_interval = 200\n",
        "learning_rate = 5e-5"
      ],
      "execution_count": null,
      "outputs": []
    },
    {
      "cell_type": "code",
      "metadata": {
        "id": "V-ysdFAaiFkh"
      },
      "source": [
        "data_train = BERTDataset(train, 0, 1, tok, max_len, True, False)\n",
        "data_test = BERTDataset(test, 0, 1, tok, max_len, True, False)\n",
        "train_dataloader = torch.utils.data.DataLoader(data_train, batch_size=batch_size, num_workers=2)\n",
        "test_dataloader = torch.utils.data.DataLoader(data_test, batch_size=batch_size, num_workers=2)\n",
        "# data_test = BERTDataset(dataset_test, 0, 1, tok, max_len, True, False)"
      ],
      "execution_count": null,
      "outputs": []
    },
    {
      "cell_type": "code",
      "metadata": {
        "id": "WXex-DB0mMZl"
      },
      "source": [
        "class BERTClassifier(nn.Module):\n",
        "    def __init__(self,\n",
        "                 bert,\n",
        "                 hidden_size = 768,\n",
        "                 num_classes=16,\n",
        "                 dr_rate=None,\n",
        "                 params=None):\n",
        "        super(BERTClassifier, self).__init__()\n",
        "        self.bert = bert\n",
        "        self.dr_rate = dr_rate\n",
        "                 \n",
        "        self.classifier = nn.Linear(hidden_size , num_classes)\n",
        "        if dr_rate:\n",
        "            self.dropout = nn.Dropout(p=dr_rate)\n",
        "    \n",
        "    def gen_attention_mask(self, token_ids, valid_length):\n",
        "        attention_mask = torch.zeros_like(token_ids)\n",
        "        for i, v in enumerate(valid_length):\n",
        "            attention_mask[i][:v] = 1\n",
        "        return attention_mask.float()\n",
        "\n",
        "    def forward(self, token_ids, valid_length, segment_ids):\n",
        "        attention_mask = self.gen_attention_mask(token_ids, valid_length)\n",
        "        \n",
        "        _, pooler = self.bert(input_ids = token_ids, token_type_ids = segment_ids.long(), attention_mask = attention_mask.float().to(token_ids.device))\n",
        "        if self.dr_rate:\n",
        "            out = self.dropout(pooler)\n",
        "        return self.classifier(out)"
      ],
      "execution_count": null,
      "outputs": []
    },
    {
      "cell_type": "code",
      "metadata": {
        "id": "TlAiZ1OcMeFR"
      },
      "source": [
        "device='cpu'"
      ],
      "execution_count": null,
      "outputs": []
    },
    {
      "cell_type": "code",
      "metadata": {
        "id": "VKHPyzcBJdWQ"
      },
      "source": [
        "model = BERTClassifier(bert = bertmodel,num_classes=16,  dr_rate=0.5).to(device)"
      ],
      "execution_count": null,
      "outputs": []
    },
    {
      "cell_type": "code",
      "metadata": {
        "id": "OFHZnaqtmIq7"
      },
      "source": [
        "# Prepare optimizer and schedule (linear warmup and decay)\n",
        "no_decay = ['bias', 'LayerNorm.weight']\n",
        "optimizer_grouped_parameters = [\n",
        "    {'params': [p for n, p in model.named_parameters() if not any(nd in n for nd in no_decay)], 'weight_decay': 0.01},\n",
        "    {'params': [p for n, p in model.named_parameters() if any(nd in n for nd in no_decay)], 'weight_decay': 0.0}\n",
        "]"
      ],
      "execution_count": null,
      "outputs": []
    },
    {
      "cell_type": "code",
      "metadata": {
        "id": "U8oqPBOmmPZL"
      },
      "source": [
        "optimizer = AdamW(optimizer_grouped_parameters, lr=learning_rate)\n",
        "loss_fn = nn.CrossEntropyLoss()"
      ],
      "execution_count": null,
      "outputs": []
    },
    {
      "cell_type": "code",
      "metadata": {
        "id": "mDb3x0_omQTS"
      },
      "source": [
        "t_total = len(train_dataloader) * num_epochs\n",
        "warmup_step = int(t_total * warmup_ratio)"
      ],
      "execution_count": null,
      "outputs": []
    },
    {
      "cell_type": "code",
      "metadata": {
        "id": "EUDq4cP3mRHK"
      },
      "source": [
        "scheduler = get_cosine_schedule_with_warmup(optimizer, num_warmup_steps=warmup_step, num_training_steps=t_total)"
      ],
      "execution_count": null,
      "outputs": []
    },
    {
      "cell_type": "code",
      "metadata": {
        "id": "QhBr8DVTmcQK"
      },
      "source": [
        "def calc_accuracy(X,Y):\n",
        "    max_vals, max_indices = torch.max(X, 1)\n",
        "    train_acc = (max_indices == Y).sum().data.cpu().numpy()/max_indices.size()[0]\n",
        "    return train_acc"
      ],
      "execution_count": null,
      "outputs": []
    },
    {
      "cell_type": "code",
      "metadata": {
        "colab": {
          "base_uri": "https://localhost:8080/"
        },
        "id": "Dls6eGt8Ej9f",
        "outputId": "f2d97e1e-a401-45aa-dc92-4ca7e0fc5ab4"
      },
      "source": [
        "## Cuda check\n",
        "print(f'current device : {device}')"
      ],
      "execution_count": null,
      "outputs": [
        {
          "output_type": "stream",
          "text": [
            "current device : cpu\n"
          ],
          "name": "stdout"
        }
      ]
    },
    {
      "cell_type": "code",
      "metadata": {
        "colab": {
          "background_save": true,
          "base_uri": "https://localhost:8080/",
          "height": 139,
          "referenced_widgets": [
            "9dd92f64cd554dc9926c0acb8d3c8d71",
            "e1b50d5415b24a138d0728e06d27538e",
            "216a0d15f8e04d7685e22b0d79da0808",
            "e0a31345fdd8451ea0bfd6572e879ebb",
            "f74248041a9443718acf2d354d1e2225",
            "20eb5f9730cc4dd7b4e3951471dc3ea3",
            "8847c74b1ee0481db7333bece0881780",
            "d735967a8f0e4648a0b431c1cc7f0521"
          ]
        },
        "id": "-Tf7_904mdza",
        "outputId": "f8d8cb8f-2e30-4a52-ce93-3fcbfea5b0cf"
      },
      "source": [
        "print(device)\n",
        "for e in range(num_epochs):\n",
        "    train_acc = 0.0\n",
        "    test_acc = 0.0\n",
        "    model.train()\n",
        "    for batch_id, (token_ids, valid_length, segment_ids, label) in enumerate(tqdm_notebook(train_dataloader)):\n",
        "        optimizer.zero_grad()\n",
        "        token_ids = token_ids.long().to(device)\n",
        "        segment_ids = segment_ids.long().to(device)\n",
        "        valid_length= valid_length\n",
        "        label = label.long().to(device)\n",
        "        out = model(token_ids, valid_length, segment_ids)\n",
        "        loss = loss_fn(out, label)\n",
        "        loss.backward()\n",
        "        torch.nn.utils.clip_grad_norm_(model.parameters(), max_grad_norm)\n",
        "        optimizer.step()\n",
        "        scheduler.step()  # Update learning rate schedule\n",
        "        train_acc += calc_accuracy(out, label)\n",
        "        if batch_id % log_interval == 0:\n",
        "            print(\"epoch {} batch id {} loss {} train acc {}\".format(e+1, batch_id+1, loss.data.cpu().numpy(), train_acc / (batch_id+1)))\n",
        "    print(\"epoch {} train acc {}\".format(e+1, train_acc / (batch_id+1)))\n",
        "    model.eval()\n",
        "    for batch_id, (token_ids, valid_length, segment_ids, label) in enumerate(tqdm_notebook(test_dataloader)):\n",
        "        token_ids = token_ids.long().to(device)\n",
        "        segment_ids = segment_ids.long().to(device)\n",
        "        valid_length= valid_length\n",
        "        label = label.long().to(device)\n",
        "        out = model(token_ids, valid_length, segment_ids)\n",
        "        test_acc += calc_accuracy(out, label)\n",
        "    print(\"epoch {} test acc {}\".format(e+1, test_acc / (batch_id+1)))"
      ],
      "execution_count": null,
      "outputs": [
        {
          "output_type": "stream",
          "text": [
            "cpu\n"
          ],
          "name": "stdout"
        },
        {
          "output_type": "stream",
          "text": [
            "/usr/local/lib/python3.7/dist-packages/ipykernel_launcher.py:6: TqdmDeprecationWarning: This function will be removed in tqdm==5.0.0\n",
            "Please use `tqdm.notebook.tqdm` instead of `tqdm.tqdm_notebook`\n",
            "  \n"
          ],
          "name": "stderr"
        },
        {
          "output_type": "display_data",
          "data": {
            "application/vnd.jupyter.widget-view+json": {
              "model_id": "9dd92f64cd554dc9926c0acb8d3c8d71",
              "version_major": 2,
              "version_minor": 0
            },
            "text/plain": [
              "HBox(children=(FloatProgress(value=0.0, max=334.0), HTML(value='')))"
            ]
          },
          "metadata": {
            "tags": []
          }
        },
        {
          "output_type": "stream",
          "text": [
            "epoch 1 batch id 1 loss 2.8141884803771973 train acc 0.09375\n"
          ],
          "name": "stdout"
        }
      ]
    },
    {
      "cell_type": "markdown",
      "metadata": {
        "id": "P2BIkZwZNMKY"
      },
      "source": [
        "# Test "
      ]
    },
    {
      "cell_type": "code",
      "metadata": {
        "id": "38FarUlQNM19"
      },
      "source": [
        "for batch_id, (token_ids, valid_length, segment_ids, label) in enumerate(tqdm_notebook(test_input)):\n",
        "  token_ids = token_ids.long().to(device)\n",
        "  segment_ids = segment_ids.long().to(device)\n",
        "  valid_length= valid_length\n",
        "  out = model(token_ids, valid_length, segment_ids)\n",
        "  print(out)\n",
        "    \n",
        "    model.eval() # 평가 모드로 변경\n",
        "    \n",
        "    for batch_id, (token_ids, valid_length, segment_ids, label) in enumerate(tqdm_notebook(test_dataloader)):\n",
        "        token_ids = token_ids.long().to(device)\n",
        "        segment_ids = segment_ids.long().to(device)\n",
        "        valid_length= valid_length\n",
        "        label = label.long().to(device)\n",
        "        out = model(token_ids, valid_length, segment_ids)\n",
        "        test_acc += calc_accuracy(out, label)\n",
        "    print(\"epoch {} test acc {}\".format(e+1, test_acc / (batch_id+1)))"
      ],
      "execution_count": null,
      "outputs": []
    }
  ]
}